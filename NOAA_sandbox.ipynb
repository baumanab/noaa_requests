{
 "cells": [
  {
   "cell_type": "code",
   "execution_count": 1,
   "metadata": {
    "collapsed": false
   },
   "outputs": [],
   "source": [
    "import pandas as pd\n",
    "import numpy as np\n",
    "from pandas.io import json\n",
    "import requests\n"
   ]
  },
  {
   "cell_type": "markdown",
   "metadata": {},
   "source": [
    "Play with some basic functions adapted from [tide data functions](https://github.com/baumanab/seattle_tides)"
   ]
  },
  {
   "cell_type": "markdown",
   "metadata": {},
   "source": [
    "### Query Builder"
   ]
  },
  {
   "cell_type": "code",
   "execution_count": 1,
   "metadata": {
    "collapsed": false
   },
   "outputs": [],
   "source": [
    "def query_builder(start_dt, end_dt, station, offset= 1):\n",
    "\n",
    "    \"\"\"Function accepts: a start and end datetime string in the form 'YYYYMMDD mm:ss'\n",
    "    which are <= 1 year apart, a station ID, and an offset. \n",
    "    Function assembles a query parameters/arguments dict and returns an API query and the \n",
    "    query dictionary (query_dict). The relevant base URL is the NCDC endpoint \n",
    "    'http://www.ncdc.noaa.gov/cdo-web/api/v2/data?'.\"\"\"\n",
    "\n",
    "    import urllib\n",
    "    \n",
    "    # API endpoint\n",
    "    base_url= 'http://www.ncdc.noaa.gov/cdo-web/api/v2/data?'\n",
    "\n",
    "    # dict of NOAA query parameters/arguments\n",
    "\n",
    "    query_dict = dict(startdate= start_dt, enddate= end_dt, stationid= station,\n",
    "                      offset= offset, datasetid= 'GHCND', limit= 1000)\n",
    "\n",
    "    # encode arguments\n",
    "\n",
    "    encoded_args = urllib.urlencode(query_dict)\n",
    "    \n",
    "    # query\n",
    "    query = base_url + encoded_args\n",
    "    \n",
    "    # decode url % (reconvert reserved characters to utf8 string)\n",
    "    query= urllib.unquote(query)\n",
    "\n",
    "    # create and return query from base url and encoded arguments\n",
    "    return query, query_dict"
   ]
  },
  {
   "cell_type": "code",
   "execution_count": 5,
   "metadata": {
    "collapsed": false
   },
   "outputs": [
    {
     "name": "stdout",
     "output_type": "stream",
     "text": [
      "http://www.ncdc.noaa.gov/cdo-web/api/v2/data?startdate=2014-01-01&stationid=GHCND:USW00023174&enddate=2015-01-01&offset=1&limit=1000&datasetid=GHCND\n"
     ]
    }
   ],
   "source": [
    "query_1, query_dict= query_builder('2014-01-01', '2015-01-01', station= 'GHCND:USW00023174')\n",
    "print(query_1)"
   ]
  },
  {
   "cell_type": "code",
   "execution_count": 6,
   "metadata": {
    "collapsed": false
   },
   "outputs": [
    {
     "name": "stdout",
     "output_type": "stream",
     "text": [
      "http://www.ncdc.noaa.gov/cdo-web/api/v2/data?startdate=2014-01-01&stationid=GHCND:USW00023174&enddate=2015-01-01&offset=1001&limit=1000&datasetid=GHCND\n"
     ]
    }
   ],
   "source": [
    "query_2, query_dict= query_builder('2014-01-01', '2015-01-01', station= 'GHCND:USW00023174', offset= 1001)\n",
    "print(query_2)"
   ]
  },
  {
   "cell_type": "markdown",
   "metadata": {},
   "source": [
    "### Offset Generator"
   ]
  },
  {
   "cell_type": "code",
   "execution_count": 7,
   "metadata": {
    "collapsed": false
   },
   "outputs": [],
   "source": [
    "def offsetter(response):\n",
    "    \n",
    "    # get repeats and repeat range\n",
    "    import math\n",
    "    count= response['metadata']['resultset']['count']\n",
    "    repeats= math.ceil(count/1000.)\n",
    "    repeat_range= range(int(repeats))\n",
    "    \n",
    "    # get offsets dictionary\n",
    "    \n",
    "    offset= 1\n",
    "    offsets= [1]\n",
    "    for item in repeat_range[1:]:\n",
    "        offset += 1000\n",
    "        offsets.append(offset)\n",
    "        \n",
    "    \n",
    "    # zip up the results and convert to dictionary\n",
    "    offset_dict= dict(zip(repeat_range[1:], offsets[1:])) # the first call has been done already to get meta\n",
    "    \n",
    "    return offset_dict, count # for quality control \n",
    "    \n",
    "    "
   ]
  },
  {
   "cell_type": "markdown",
   "metadata": {},
   "source": [
    "### Query Generator\n",
    "\n",
    "#### TODO\n",
    "- refactor with a decorator\n",
    "- make key an attribute that can be hidden"
   ]
  },
  {
   "cell_type": "code",
   "execution_count": 8,
   "metadata": {
    "collapsed": true
   },
   "outputs": [],
   "source": [
    "def execute_query(query):\n",
    "    url = query\n",
    "    # replace token with token provided by NOAA.  Enter token as string\n",
    "    headers = {'token': NOAA_Token_Here}\n",
    "    response = requests.get(url, headers = headers)\n",
    "    response = response.json()\n",
    "    \n",
    "    return response"
   ]
  },
  {
   "cell_type": "code",
   "execution_count": 46,
   "metadata": {
    "collapsed": true
   },
   "outputs": [],
   "source": [
    "working_1= execute_query(query_1)['results']\n",
    "working_2 = execute_query(query_2)['results']"
   ]
  },
  {
   "cell_type": "code",
   "execution_count": 73,
   "metadata": {
    "collapsed": false
   },
   "outputs": [],
   "source": [
    "check= yeah.pivot(index= 'date',columns= 'datatype', values= 'value').reset_index()"
   ]
  },
  {
   "cell_type": "code",
   "execution_count": 74,
   "metadata": {
    "collapsed": false
   },
   "outputs": [
    {
     "data": {
      "text/html": [
       "<div>\n",
       "<table border=\"1\" class=\"dataframe\">\n",
       "  <thead>\n",
       "    <tr style=\"text-align: right;\">\n",
       "      <th>datatype</th>\n",
       "      <th>date</th>\n",
       "      <th>AWND</th>\n",
       "      <th>PRCP</th>\n",
       "      <th>SNOW</th>\n",
       "      <th>SNWD</th>\n",
       "      <th>TAVG</th>\n",
       "      <th>TMAX</th>\n",
       "      <th>TMIN</th>\n",
       "      <th>WDF2</th>\n",
       "      <th>WDF5</th>\n",
       "      <th>WSF2</th>\n",
       "      <th>WSF5</th>\n",
       "      <th>WT01</th>\n",
       "      <th>WT08</th>\n",
       "    </tr>\n",
       "  </thead>\n",
       "  <tbody>\n",
       "  </tbody>\n",
       "</table>\n",
       "</div>"
      ],
      "text/plain": [
       "Empty DataFrame\n",
       "Columns: [date, AWND, PRCP, SNOW, SNWD, TAVG, TMAX, TMIN, WDF2, WDF5, WSF2, WSF5, WT01, WT08]\n",
       "Index: []"
      ]
     },
     "execution_count": 74,
     "metadata": {},
     "output_type": "execute_result"
    }
   ],
   "source": [
    "check[check.date.isnull()]"
   ]
  },
  {
   "cell_type": "markdown",
   "metadata": {},
   "source": [
    "### Extract Results"
   ]
  },
  {
   "cell_type": "code",
   "execution_count": 75,
   "metadata": {
    "collapsed": true
   },
   "outputs": [],
   "source": [
    "def extract_results(response):\n",
    "    data= response['results']\n",
    "    # for quality control to verify retrieval of all rows\n",
    "    length= len(data)\n",
    "    \n",
    "    return data, length"
   ]
  },
  {
   "cell_type": "code",
   "execution_count": 85,
   "metadata": {
    "collapsed": true
   },
   "outputs": [],
   "source": [
    "def collator(results):\n",
    "    \n",
    "    df= pd.DataFrame(results)    \n",
    "    df= df.drop(['attributes','station'], axis=1)\n",
    "    df= df.pivot(index= 'date',columns= 'datatype', values= 'value').reset_index()\n",
    "    \n",
    "    return df"
   ]
  },
  {
   "cell_type": "code",
   "execution_count": 102,
   "metadata": {
    "collapsed": true
   },
   "outputs": [],
   "source": [
    "def get_ncdc(start_dt, end_dt, station):\n",
    "    \n",
    "    \n",
    "    # count for verifying retrieval of all rows\n",
    "    record_count= 0\n",
    "    # initial query\n",
    "    query, query_dict= query_builder(start_dt, end_dt, station)\n",
    "    response= execute_query(query)\n",
    "    \n",
    "    #  extract results and count    \n",
    "    results, length= extract_results(response)\n",
    "    record_count += length\n",
    "    \n",
    "    # get offsets for remaining queries\n",
    "    off_d, count= offsetter(response)\n",
    "    \n",
    "    # execute remaining queries and operations\n",
    "    for offset in off_d:\n",
    "        query, _= query_builder(start_dt, end_dt, station, off_d[offset])\n",
    "        print(query)\n",
    "        response= execute_query(query)\n",
    "        next_results, next_length= extract_results(response)\n",
    "        \n",
    "        record_count += next_length\n",
    "        \n",
    "        # concat results lists\n",
    "        results += next_results\n",
    "        \n",
    "    assert record_count == count, 'record count != count'\n",
    "    \n",
    "    collated_data= collator(results)\n",
    "        \n",
    "    return collated_data, record_count\n",
    "        \n",
    "    "
   ]
  },
  {
   "cell_type": "raw",
   "metadata": {
    "collapsed": true
   },
   "source": [
    "def collator(response):\n",
    "    \n",
    "    data= pd.DataFrame(response['results'])\n",
    "    # for quality control to verify retrieval of all rows\n",
    "    length= len(data)\n",
    "    \n",
    "    data= data.drop(['attributes','station'], axis=1)\n",
    "    data= data.pivot(index= 'date',columns= 'datatype', values= 'value').reset_index()\n",
    "    \n",
    "    return data, length"
   ]
  },
  {
   "cell_type": "raw",
   "metadata": {
    "collapsed": true
   },
   "source": [
    "def get_ncdc(start_dt, end_dt, station):\n",
    "    \n",
    "    \n",
    "    # count for verifying retrieval of all rows\n",
    "    row_count= 0\n",
    "    # initial query\n",
    "    query, query_dict= query_builder(start_dt, end_dt, station)\n",
    "    response= execute_query(query)\n",
    "    \n",
    "    # collate and count    \n",
    "    collated_data, length= collator(response)\n",
    "    row_count += length\n",
    "    \n",
    "    # get offsets for remaining queries\n",
    "    off_d, count= offsetter(response)\n",
    "    \n",
    "    # execute remaining queries and operations\n",
    "    for offset in off_d:\n",
    "        query, _= query_builder(start_dt, end_dt, station, off_d[offset])\n",
    "        print(query)\n",
    "        response= execute_query(query)\n",
    "        next_data, next_length= collator(response)\n",
    "        \n",
    "        row_count += next_length\n",
    "        \n",
    "        # stack DataFrames\n",
    "        collated_data= pd.concat([collated_data, next_data])\n",
    "        \n",
    "    assert row_count == count, 'row count != count'\n",
    "        \n",
    "    return collated_data, row_count\n",
    "        \n",
    "    \n",
    "    \n",
    "    \n",
    "    \n",
    "    \n",
    "    \n",
    "    "
   ]
  },
  {
   "cell_type": "code",
   "execution_count": 103,
   "metadata": {
    "collapsed": false
   },
   "outputs": [
    {
     "name": "stdout",
     "output_type": "stream",
     "text": [
      "http://www.ncdc.noaa.gov/cdo-web/api/v2/data?startdate=2014-01-01&stationid=GHCND:USW00023174&enddate=2014-12-31&offset=1001&limit=1000&datasetid=GHCND\n",
      "http://www.ncdc.noaa.gov/cdo-web/api/v2/data?startdate=2014-01-01&stationid=GHCND:USW00023174&enddate=2014-12-31&offset=2001&limit=1000&datasetid=GHCND\n",
      "http://www.ncdc.noaa.gov/cdo-web/api/v2/data?startdate=2014-01-01&stationid=GHCND:USW00023174&enddate=2014-12-31&offset=3001&limit=1000&datasetid=GHCND\n",
      "http://www.ncdc.noaa.gov/cdo-web/api/v2/data?startdate=2014-01-01&stationid=GHCND:USW00023174&enddate=2014-12-31&offset=4001&limit=1000&datasetid=GHCND\n"
     ]
    }
   ],
   "source": [
    "test, qc = get_ncdc('2014-01-01', '2014-12-31', station= 'GHCND:USW00023174')"
   ]
  },
  {
   "cell_type": "code",
   "execution_count": 104,
   "metadata": {
    "collapsed": false
   },
   "outputs": [
    {
     "data": {
      "text/plain": [
       "0    2014-01-01T00:00:00\n",
       "1    2014-01-02T00:00:00\n",
       "2    2014-01-03T00:00:00\n",
       "3    2014-01-04T00:00:00\n",
       "4    2014-01-05T00:00:00\n",
       "Name: date, dtype: object"
      ]
     },
     "execution_count": 104,
     "metadata": {},
     "output_type": "execute_result"
    }
   ],
   "source": [
    "test.date.head()"
   ]
  },
  {
   "cell_type": "code",
   "execution_count": 105,
   "metadata": {
    "collapsed": false
   },
   "outputs": [
    {
     "data": {
      "text/plain": [
       "360    2014-12-27T00:00:00\n",
       "361    2014-12-28T00:00:00\n",
       "362    2014-12-29T00:00:00\n",
       "363    2014-12-30T00:00:00\n",
       "364    2014-12-31T00:00:00\n",
       "Name: date, dtype: object"
      ]
     },
     "execution_count": 105,
     "metadata": {},
     "output_type": "execute_result"
    }
   ],
   "source": [
    "test.date.tail()"
   ]
  },
  {
   "cell_type": "code",
   "execution_count": 106,
   "metadata": {
    "collapsed": false
   },
   "outputs": [
    {
     "name": "stdout",
     "output_type": "stream",
     "text": [
      "<class 'pandas.core.frame.DataFrame'>\n",
      "RangeIndex: 365 entries, 0 to 364\n",
      "Data columns (total 16 columns):\n",
      "date    365 non-null object\n",
      "AWND    365 non-null float64\n",
      "PRCP    365 non-null float64\n",
      "SNOW    357 non-null float64\n",
      "SNWD    360 non-null float64\n",
      "TAVG    365 non-null float64\n",
      "TMAX    365 non-null float64\n",
      "TMIN    365 non-null float64\n",
      "WDF2    365 non-null float64\n",
      "WDF5    354 non-null float64\n",
      "WSF2    365 non-null float64\n",
      "WSF5    354 non-null float64\n",
      "WT01    94 non-null float64\n",
      "WT02    5 non-null float64\n",
      "WT03    1 non-null float64\n",
      "WT08    37 non-null float64\n",
      "dtypes: float64(15), object(1)\n",
      "memory usage: 44.2+ KB\n"
     ]
    }
   ],
   "source": [
    "test.info()"
   ]
  },
  {
   "cell_type": "code",
   "execution_count": 107,
   "metadata": {
    "collapsed": false
   },
   "outputs": [
    {
     "data": {
      "text/html": [
       "<div>\n",
       "<table border=\"1\" class=\"dataframe\">\n",
       "  <thead>\n",
       "    <tr style=\"text-align: right;\">\n",
       "      <th>datatype</th>\n",
       "      <th>date</th>\n",
       "      <th>AWND</th>\n",
       "      <th>PRCP</th>\n",
       "      <th>SNOW</th>\n",
       "      <th>SNWD</th>\n",
       "      <th>TAVG</th>\n",
       "      <th>TMAX</th>\n",
       "      <th>TMIN</th>\n",
       "      <th>WDF2</th>\n",
       "      <th>WDF5</th>\n",
       "      <th>WSF2</th>\n",
       "      <th>WSF5</th>\n",
       "      <th>WT01</th>\n",
       "      <th>WT02</th>\n",
       "      <th>WT03</th>\n",
       "      <th>WT08</th>\n",
       "    </tr>\n",
       "  </thead>\n",
       "  <tbody>\n",
       "  </tbody>\n",
       "</table>\n",
       "</div>"
      ],
      "text/plain": [
       "Empty DataFrame\n",
       "Columns: [date, AWND, PRCP, SNOW, SNWD, TAVG, TMAX, TMIN, WDF2, WDF5, WSF2, WSF5, WT01, WT02, WT03, WT08]\n",
       "Index: []"
      ]
     },
     "execution_count": 107,
     "metadata": {},
     "output_type": "execute_result"
    }
   ],
   "source": [
    "test[test.date.isnull()]"
   ]
  },
  {
   "cell_type": "code",
   "execution_count": 111,
   "metadata": {
    "collapsed": false
   },
   "outputs": [
    {
     "name": "stdout",
     "output_type": "stream",
     "text": [
      "http://www.ncdc.noaa.gov/cdo-web/api/v2/data?startdate=2014-05-03&stationid=GHCND:USW00023174&enddate=2015-05-02&offset=1001&limit=1000&datasetid=GHCND\n",
      "http://www.ncdc.noaa.gov/cdo-web/api/v2/data?startdate=2014-05-03&stationid=GHCND:USW00023174&enddate=2015-05-02&offset=2001&limit=1000&datasetid=GHCND\n",
      "http://www.ncdc.noaa.gov/cdo-web/api/v2/data?startdate=2014-05-03&stationid=GHCND:USW00023174&enddate=2015-05-02&offset=3001&limit=1000&datasetid=GHCND\n",
      "http://www.ncdc.noaa.gov/cdo-web/api/v2/data?startdate=2014-05-03&stationid=GHCND:USW00023174&enddate=2015-05-02&offset=4001&limit=1000&datasetid=GHCND\n",
      "http://www.ncdc.noaa.gov/cdo-web/api/v2/data?startdate=2015-05-03&stationid=GHCND:USW00023174&enddate=2016-05-02&offset=1001&limit=1000&datasetid=GHCND\n",
      "http://www.ncdc.noaa.gov/cdo-web/api/v2/data?startdate=2015-05-03&stationid=GHCND:USW00023174&enddate=2016-05-02&offset=2001&limit=1000&datasetid=GHCND\n",
      "http://www.ncdc.noaa.gov/cdo-web/api/v2/data?startdate=2015-05-03&stationid=GHCND:USW00023174&enddate=2016-05-02&offset=3001&limit=1000&datasetid=GHCND\n",
      "http://www.ncdc.noaa.gov/cdo-web/api/v2/data?startdate=2015-05-03&stationid=GHCND:USW00023174&enddate=2016-05-02&offset=4001&limit=1000&datasetid=GHCND\n",
      "http://www.ncdc.noaa.gov/cdo-web/api/v2/data?startdate=2016-05-03&stationid=GHCND:USW00023174&enddate=2017-05-02&offset=1001&limit=1000&datasetid=GHCND\n",
      "http://www.ncdc.noaa.gov/cdo-web/api/v2/data?startdate=2016-05-03&stationid=GHCND:USW00023174&enddate=2017-05-02&offset=2001&limit=1000&datasetid=GHCND\n",
      "http://www.ncdc.noaa.gov/cdo-web/api/v2/data?startdate=2016-05-03&stationid=GHCND:USW00023174&enddate=2017-05-02&offset=3001&limit=1000&datasetid=GHCND\n",
      "http://www.ncdc.noaa.gov/cdo-web/api/v2/data?startdate=2016-05-03&stationid=GHCND:USW00023174&enddate=2017-05-02&offset=4001&limit=1000&datasetid=GHCND\n"
     ]
    }
   ],
   "source": [
    "y1, qc = get_ncdc('2014-05-03', '2015-05-02', station= 'GHCND:USW00023174')\n",
    "y2, qc = get_ncdc('2015-05-03', '2016-05-02', station= 'GHCND:USW00023174')\n",
    "y3, qc = get_ncdc('2016-05-03', '2017-05-02', station= 'GHCND:USW00023174')"
   ]
  },
  {
   "cell_type": "code",
   "execution_count": 112,
   "metadata": {
    "collapsed": false
   },
   "outputs": [
    {
     "name": "stdout",
     "output_type": "stream",
     "text": [
      "<class 'pandas.core.frame.DataFrame'>\n",
      "RangeIndex: 365 entries, 0 to 364\n",
      "Data columns (total 16 columns):\n",
      "date    365 non-null object\n",
      "AWND    365 non-null float64\n",
      "PRCP    365 non-null float64\n",
      "SNOW    358 non-null float64\n",
      "SNWD    360 non-null float64\n",
      "TAVG    365 non-null float64\n",
      "TMAX    365 non-null float64\n",
      "TMIN    365 non-null float64\n",
      "WDF2    365 non-null float64\n",
      "WDF5    353 non-null float64\n",
      "WSF2    365 non-null float64\n",
      "WSF5    353 non-null float64\n",
      "WT01    120 non-null float64\n",
      "WT02    15 non-null float64\n",
      "WT03    1 non-null float64\n",
      "WT08    73 non-null float64\n",
      "dtypes: float64(15), object(1)\n",
      "memory usage: 44.2+ KB\n"
     ]
    }
   ],
   "source": [
    "y1.info()"
   ]
  },
  {
   "cell_type": "code",
   "execution_count": 113,
   "metadata": {
    "collapsed": true
   },
   "outputs": [],
   "source": [
    "years= pd.concat([y1, y2, y3])"
   ]
  },
  {
   "cell_type": "code",
   "execution_count": 114,
   "metadata": {
    "collapsed": false
   },
   "outputs": [
    {
     "data": {
      "text/plain": [
       "0    2014-05-03T00:00:00\n",
       "1    2014-05-04T00:00:00\n",
       "2    2014-05-05T00:00:00\n",
       "3    2014-05-06T00:00:00\n",
       "4    2014-05-07T00:00:00\n",
       "Name: date, dtype: object"
      ]
     },
     "execution_count": 114,
     "metadata": {},
     "output_type": "execute_result"
    }
   ],
   "source": [
    "years.date.head()"
   ]
  },
  {
   "cell_type": "code",
   "execution_count": 115,
   "metadata": {
    "collapsed": false
   },
   "outputs": [
    {
     "data": {
      "text/plain": [
       "358    2017-04-26T00:00:00\n",
       "359    2017-04-27T00:00:00\n",
       "360    2017-04-28T00:00:00\n",
       "361    2017-04-29T00:00:00\n",
       "362    2017-04-30T00:00:00\n",
       "Name: date, dtype: object"
      ]
     },
     "execution_count": 115,
     "metadata": {},
     "output_type": "execute_result"
    }
   ],
   "source": [
    "years.date.tail()"
   ]
  },
  {
   "cell_type": "code",
   "execution_count": 116,
   "metadata": {
    "collapsed": false
   },
   "outputs": [],
   "source": [
    "years.to_csv('LAX_3years.csv', index= False)"
   ]
  }
 ],
 "metadata": {
  "anaconda-cloud": {},
  "kernelspec": {
   "display_name": "Python [default]",
   "language": "python",
   "name": "python2"
  },
  "language_info": {
   "codemirror_mode": {
    "name": "ipython",
    "version": 2
   },
   "file_extension": ".py",
   "mimetype": "text/x-python",
   "name": "python",
   "nbconvert_exporter": "python",
   "pygments_lexer": "ipython2",
   "version": "2.7.11"
  }
 },
 "nbformat": 4,
 "nbformat_minor": 0
}
